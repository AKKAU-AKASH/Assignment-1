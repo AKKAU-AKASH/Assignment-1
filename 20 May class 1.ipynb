{
 "cells": [
  {
   "cell_type": "code",
   "execution_count": 21,
   "id": "71532a37",
   "metadata": {},
   "outputs": [
    {
     "name": "stdout",
     "output_type": "stream",
     "text": [
      "84\n"
     ]
    }
   ],
   "source": [
    "d=1+2+3+4 \\\n",
    "   +5+6+7+1 \\\n",
    "   +2+3+4+5+6 \\\n",
    "   +7+1+2+3 \\\n",
    "   +4+5+6+7\n",
    "print(d)"
   ]
  },
  {
   "cell_type": "code",
   "execution_count": 3,
   "id": "a7980321",
   "metadata": {},
   "outputs": [
    {
     "name": "stdout",
     "output_type": "stream",
     "text": [
      "\n",
      "    This function is adding two variables\n",
      "    two variables are a & b\n",
      "    we need to calculate the sum as c\n",
      "    \n"
     ]
    }
   ],
   "source": [
    "def ad (a,b):\n",
    "    \"\"\"\n",
    "    This function is adding two variables\n",
    "    two variables are a & b\n",
    "    we need to calculate the sum as c\n",
    "    \"\"\"\n",
    "    return a+b\n",
    "print(ad.__doc__)"
   ]
  },
  {
   "cell_type": "code",
   "execution_count": 23,
   "id": "02e9abbb",
   "metadata": {},
   "outputs": [],
   "source": [
    "x = (1 + 2 + 5 + \n",
    "    1 + 2 +5)"
   ]
  },
  {
   "cell_type": "code",
   "execution_count": 15,
   "id": "28e4f22a",
   "metadata": {},
   "outputs": [],
   "source": [
    "x = (1 + 2 + 5 \\\n",
    "    + 1 + 2 +5)"
   ]
  },
  {
   "cell_type": "code",
   "execution_count": 18,
   "id": "f40dcd95",
   "metadata": {},
   "outputs": [
    {
     "ename": "IndentationError",
     "evalue": "unexpected indent (864072672.py, line 3)",
     "output_type": "error",
     "traceback": [
      "\u001b[0;36m  Cell \u001b[0;32mIn[18], line 3\u001b[0;36m\u001b[0m\n\u001b[0;31m    +2+3+4\u001b[0m\n\u001b[0m    ^\u001b[0m\n\u001b[0;31mIndentationError\u001b[0m\u001b[0;31m:\u001b[0m unexpected indent\n"
     ]
    }
   ],
   "source": [
    "x = 1 + 2 + 5 \\\n",
    "    + 1 + 2 +51 \n",
    "     +2+3+4"
   ]
  },
  {
   "cell_type": "code",
   "execution_count": 22,
   "id": "271116ed",
   "metadata": {},
   "outputs": [],
   "source": [
    "x = 1 + 2 + 5 \\\n",
    "    + 1 + 2 +51 \\\n",
    "     +2+3+4"
   ]
  },
  {
   "cell_type": "code",
   "execution_count": 24,
   "id": "b0b9df99",
   "metadata": {},
   "outputs": [
    {
     "name": "stdout",
     "output_type": "stream",
     "text": [
      "don dom\n"
     ]
    }
   ],
   "source": [
    "num1= \"don\"\n",
    "num2= 'dom'\n",
    "print(num1,num2)"
   ]
  },
  {
   "cell_type": "code",
   "execution_count": 28,
   "id": "8aa7d6e8",
   "metadata": {},
   "outputs": [
    {
     "name": "stdout",
     "output_type": "stream",
     "text": [
      "5\n"
     ]
    }
   ],
   "source": [
    "x=5\n",
    "print(x)"
   ]
  },
  {
   "cell_type": "code",
   "execution_count": 27,
   "id": "02fb0c26",
   "metadata": {
    "scrolled": true
   },
   "outputs": [
    {
     "name": "stdout",
     "output_type": "stream",
     "text": [
      "5.4\n"
     ]
    }
   ],
   "source": [
    "x=5.4\n",
    "print(x)"
   ]
  },
  {
   "cell_type": "code",
   "execution_count": 29,
   "id": "368ecead",
   "metadata": {
    "scrolled": true
   },
   "outputs": [
    {
     "ename": "SyntaxError",
     "evalue": "invalid syntax (485076323.py, line 1)",
     "output_type": "error",
     "traceback": [
      "\u001b[0;36m  Cell \u001b[0;32mIn[29], line 1\u001b[0;36m\u001b[0m\n\u001b[0;31m    x=5..4\u001b[0m\n\u001b[0m        ^\u001b[0m\n\u001b[0;31mSyntaxError\u001b[0m\u001b[0;31m:\u001b[0m invalid syntax\n"
     ]
    }
   ],
   "source": [
    "x=5..4\n",
    "print(x)"
   ]
  },
  {
   "cell_type": "code",
   "execution_count": 30,
   "id": "4a8db4ff",
   "metadata": {},
   "outputs": [
    {
     "name": "stdout",
     "output_type": "stream",
     "text": [
      "['bananas', 'apple']\n"
     ]
    }
   ],
   "source": [
    "#mutable_list\n",
    "fruits = [\"bananas\", \"apple\"]\n",
    "print(fruits)"
   ]
  },
  {
   "cell_type": "code",
   "execution_count": 31,
   "id": "c8b80110",
   "metadata": {},
   "outputs": [
    {
     "name": "stdout",
     "output_type": "stream",
     "text": [
      "[1, 'alice', ['bananas', 'apple']]\n"
     ]
    }
   ],
   "source": [
    "hetero_list = [1, \"alice\", [\"bananas\", \"apple\"] ]\n",
    "print(hetero_list)"
   ]
  },
  {
   "cell_type": "code",
   "execution_count": 32,
   "id": "cce0c762",
   "metadata": {},
   "outputs": [
    {
     "name": "stdout",
     "output_type": "stream",
     "text": [
      "['bananas', 'apple', 'grapes']\n"
     ]
    }
   ],
   "source": [
    "#mutable_list\n",
    "fruits = [\"bananas\", \"apple\", \"grapes\"]\n",
    "print(fruits)"
   ]
  },
  {
   "cell_type": "code",
   "execution_count": 33,
   "id": "c678b3e2",
   "metadata": {},
   "outputs": [
    {
     "name": "stdout",
     "output_type": "stream",
     "text": [
      "(1, 2, 3, 4)\n"
     ]
    }
   ],
   "source": [
    "#immutable_tuple\n",
    "my_tuple=(1,2,3,4)\n",
    "print(my_tuple)"
   ]
  },
  {
   "cell_type": "code",
   "execution_count": 36,
   "id": "e0c4d45c",
   "metadata": {},
   "outputs": [
    {
     "name": "stdout",
     "output_type": "stream",
     "text": [
      "(1, 2, 3, 4, 6, 9, 8)\n"
     ]
    }
   ],
   "source": [
    "#immutable_tuple\n",
    "my_tuple=(1,2,3,4,6,9,8)\n",
    "print(my_tuple)"
   ]
  },
  {
   "cell_type": "code",
   "execution_count": 37,
   "id": "6a0e4a26",
   "metadata": {},
   "outputs": [
    {
     "name": "stdout",
     "output_type": "stream",
     "text": [
      "(1, 'alice', ['bananas', 'apple'])\n"
     ]
    }
   ],
   "source": [
    "hetero_tuple = (1, \"alice\", [\"bananas\", \"apple\"] )\n",
    "print(hetero_tuple)"
   ]
  },
  {
   "cell_type": "code",
   "execution_count": 39,
   "id": "02ffbab9",
   "metadata": {},
   "outputs": [
    {
     "name": "stdout",
     "output_type": "stream",
     "text": [
      "(1, 'alice', ('bananas', 'apple'))\n"
     ]
    }
   ],
   "source": [
    "hetero_tuple = (1, \"alice\", (\"bananas\", \"apple\") )\n",
    "print(hetero_tuple)"
   ]
  },
  {
   "cell_type": "code",
   "execution_count": 43,
   "id": "be05c789",
   "metadata": {},
   "outputs": [
    {
     "name": "stdout",
     "output_type": "stream",
     "text": [
      "{'name': 'Tom', 'city': 'LA'}\n"
     ]
    }
   ],
   "source": [
    "#mutable\n",
    "#dictionaries\n",
    "person= {\"name\": \"Tom\", \"city\": \"LA\"}\n",
    "print(person)"
   ]
  },
  {
   "cell_type": "code",
   "execution_count": 45,
   "id": "ed80de37",
   "metadata": {},
   "outputs": [
    {
     "name": "stdout",
     "output_type": "stream",
     "text": [
      "{'name': 'Tom', 'city': 'LA', (1, 2): [2, 4]}\n"
     ]
    }
   ],
   "source": [
    "hetero_dicitionaries = {\"name\": \"Tom\", \"city\": \"LA\", (1,2) : [2,4]}\n",
    "print(hetero_dicitionaries)"
   ]
  },
  {
   "cell_type": "code",
   "execution_count": 47,
   "id": "949c1ade",
   "metadata": {},
   "outputs": [
    {
     "name": "stdout",
     "output_type": "stream",
     "text": [
      "my name is khan\n"
     ]
    }
   ],
   "source": [
    "print(\"my name is khan\")"
   ]
  },
  {
   "cell_type": "code",
   "execution_count": 49,
   "id": "1255df27",
   "metadata": {},
   "outputs": [
    {
     "name": "stdout",
     "output_type": "stream",
     "text": [
      "Enter your Name AKASH\n",
      "how are you, AKASH\n"
     ]
    }
   ],
   "source": [
    "name= input(\"Enter your Name \")\n",
    "print(f\"how are you, {name}\")"
   ]
  },
  {
   "cell_type": "code",
   "execution_count": null,
   "id": "8ce194cb",
   "metadata": {},
   "outputs": [],
   "source": []
  }
 ],
 "metadata": {
  "kernelspec": {
   "display_name": "Python 3 (ipykernel)",
   "language": "python",
   "name": "python3"
  },
  "language_info": {
   "codemirror_mode": {
    "name": "ipython",
    "version": 3
   },
   "file_extension": ".py",
   "mimetype": "text/x-python",
   "name": "python",
   "nbconvert_exporter": "python",
   "pygments_lexer": "ipython3",
   "version": "3.10.9"
  }
 },
 "nbformat": 4,
 "nbformat_minor": 5
}
